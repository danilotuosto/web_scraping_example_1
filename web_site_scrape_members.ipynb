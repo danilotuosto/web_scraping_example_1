{
 "cells": [
  {
   "cell_type": "markdown",
   "metadata": {},
   "source": [
    "#### **Web Scraping** for a job on upwork by @danilotuosto\n",
    "A client asked to scrape the website https://www.hbaknoxville.com/members/ql/builders-developers-remodelers-26\n",
    "\n"
   ]
  },
  {
   "cell_type": "code",
   "execution_count": 1,
   "metadata": {},
   "outputs": [],
   "source": [
    "import requests as rq\n",
    "import pandas as pd\n",
    "from bs4 import BeautifulSoup as bs"
   ]
  },
  {
   "cell_type": "code",
   "execution_count": 165,
   "metadata": {},
   "outputs": [
    {
     "name": "stdout",
     "output_type": "stream",
     "text": [
      "number of records:  271\n"
     ]
    },
    {
     "data": {
      "text/html": [
       "<div>\n",
       "<style scoped>\n",
       "    .dataframe tbody tr th:only-of-type {\n",
       "        vertical-align: middle;\n",
       "    }\n",
       "\n",
       "    .dataframe tbody tr th {\n",
       "        vertical-align: top;\n",
       "    }\n",
       "\n",
       "    .dataframe thead th {\n",
       "        text-align: right;\n",
       "    }\n",
       "</style>\n",
       "<table border=\"1\" class=\"dataframe\">\n",
       "  <thead>\n",
       "    <tr style=\"text-align: right;\">\n",
       "      <th></th>\n",
       "      <th>company</th>\n",
       "      <th>else</th>\n",
       "      <th>website</th>\n",
       "    </tr>\n",
       "  </thead>\n",
       "  <tbody>\n",
       "    <tr>\n",
       "      <th>0</th>\n",
       "      <td>Saddlebrook Properties, LLC</td>\n",
       "      <td>122 Perimeter Park Rd.\\n                      ...</td>\n",
       "      <td>https://www.hbaknoxville.com/members/member/sa...</td>\n",
       "    </tr>\n",
       "    <tr>\n",
       "      <th>1</th>\n",
       "      <td>Eagle CDI Inc.</td>\n",
       "      <td>11719 Chapman Hwy Suite 105\\n                 ...</td>\n",
       "      <td>https://www.hbaknoxville.com/members/member/ea...</td>\n",
       "    </tr>\n",
       "    <tr>\n",
       "      <th>2</th>\n",
       "      <td>Smithbilt, LLC</td>\n",
       "      <td>4907 Ball Road\\n                        \\n    ...</td>\n",
       "      <td>https://www.hbaknoxville.com/members/member/sm...</td>\n",
       "    </tr>\n",
       "    <tr>\n",
       "      <th>3</th>\n",
       "      <td>FairFax Custom Homes &amp; Remodeling</td>\n",
       "      <td>3390 Dozer Lane\\n                        \\n   ...</td>\n",
       "      <td>https://www.hbaknoxville.com/members/member/fa...</td>\n",
       "    </tr>\n",
       "    <tr>\n",
       "      <th>4</th>\n",
       "      <td>DuPree Homes</td>\n",
       "      <td>1919 Chiswick Road\\n                        \\n...</td>\n",
       "      <td>https://www.hbaknoxville.com/members/member/du...</td>\n",
       "    </tr>\n",
       "  </tbody>\n",
       "</table>\n",
       "</div>"
      ],
      "text/plain": [
       "                             company  \\\n",
       "0        Saddlebrook Properties, LLC   \n",
       "1                     Eagle CDI Inc.   \n",
       "2                     Smithbilt, LLC   \n",
       "3  FairFax Custom Homes & Remodeling   \n",
       "4                       DuPree Homes   \n",
       "\n",
       "                                                else  \\\n",
       "0  122 Perimeter Park Rd.\\n                      ...   \n",
       "1  11719 Chapman Hwy Suite 105\\n                 ...   \n",
       "2  4907 Ball Road\\n                        \\n    ...   \n",
       "3  3390 Dozer Lane\\n                        \\n   ...   \n",
       "4  1919 Chiswick Road\\n                        \\n...   \n",
       "\n",
       "                                             website  \n",
       "0  https://www.hbaknoxville.com/members/member/sa...  \n",
       "1  https://www.hbaknoxville.com/members/member/ea...  \n",
       "2  https://www.hbaknoxville.com/members/member/sm...  \n",
       "3  https://www.hbaknoxville.com/members/member/fa...  \n",
       "4  https://www.hbaknoxville.com/members/member/du...  "
      ]
     },
     "execution_count": 165,
     "metadata": {},
     "output_type": "execute_result"
    }
   ],
   "source": [
    "link = rq.get('https://www.hbaknoxville.com/members/ql/builders-developers-remodelers-26')\n",
    "soup = bs(link.content, 'html5lib')\n",
    "\n",
    "cards_all_fr = soup.find('div', class_ = 'row gz-cards gz-results-cards')\n",
    "\n",
    "cards = cards_all_fr.find_all_next('div', class_ = 'gz-list-card-wrapper')\n",
    "print('number of records: ',len(cards))\n",
    "\n",
    "name, others, website = [],[],[]\n",
    "\n",
    "for card in cards:\n",
    "    name_each = card.find('h5', class_ = 'card-title gz-card-title')\n",
    "    name.append(name_each.text.strip())\n",
    "    else_each = card.find('ul', class_ = 'list-group list-group-flush')\n",
    "    others.append(else_each.text.strip())\n",
    "    ws_each = card.find('a', href=True).get('href')\n",
    "    website.append(ws_each)\n",
    "\n",
    "tab = {\n",
    "    'company':name,\n",
    "    'else': others,\n",
    "    'website': website\n",
    "}\n",
    "\n",
    "\n",
    "df = pd.DataFrame(tab)\n",
    "df.head()\n",
    "\n",
    "\n",
    "\n",
    "\n",
    "\n"
   ]
  },
  {
   "cell_type": "markdown",
   "metadata": {},
   "source": [
    "Unfortunatly, when i came to send a sample, the job was unavaiable. So i didn't finish, but i would only separate the else field into Address_1, Address_2, City, State, Zip_Code and contact_number."
   ]
  }
 ],
 "metadata": {
  "kernelspec": {
   "display_name": "Python 3",
   "language": "python",
   "name": "python3"
  },
  "language_info": {
   "codemirror_mode": {
    "name": "ipython",
    "version": 3
   },
   "file_extension": ".py",
   "mimetype": "text/x-python",
   "name": "python",
   "nbconvert_exporter": "python",
   "pygments_lexer": "ipython3",
   "version": "3.11.6"
  }
 },
 "nbformat": 4,
 "nbformat_minor": 2
}
